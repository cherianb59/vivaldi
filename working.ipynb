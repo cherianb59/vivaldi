{
 "cells": [
  {
   "cell_type": "code",
   "execution_count": 247,
   "metadata": {},
   "outputs": [
    {
     "name": "stdout",
     "output_type": "stream",
     "text": [
      "[4890, 4859, 251]\n",
      "         16315838 function calls in 10.999 seconds\n",
      "\n",
      "   Ordered by: standard name\n",
      "\n",
      "   ncalls  tottime  percall  cumtime  percall filename:lineno(function)\n",
      "        1    0.138    0.138   10.999   10.999 <ipython-input-247-ad33cece4e14>:9(longterm)\n",
      "        1    0.000    0.000   10.999   10.999 <string>:1(<module>)\n",
      "   620000    0.294    0.000    0.964    0.000 __init__.py:1258(debug)\n",
      "   620000    0.295    0.000    0.295    0.000 __init__.py:1502(getEffectiveLevel)\n",
      "   620000    0.375    0.000    0.669    0.000 __init__.py:1516(isEnabledFor)\n",
      "  1280000    0.471    0.000    0.471    0.000 classes.py:103(<genexpr>)\n",
      "    10000    0.018    0.000    0.043    0.000 classes.py:113(winner)\n",
      "    30220    0.012    0.000    0.012    0.000 classes.py:115(<genexpr>)\n",
      "     1256    0.000    0.000    0.000    0.000 classes.py:121(<genexpr>)\n",
      "    10000    0.089    0.000    2.168    0.000 classes.py:126(start_game)\n",
      "    10000    0.065    0.000    0.220    0.000 classes.py:129(<listcomp>)\n",
      "    10000    0.054    0.000    0.193    0.000 classes.py:130(<listcomp>)\n",
      "    80000    0.394    0.000    7.979    0.000 classes.py:134(run_turn)\n",
      "  1360000    1.119    0.000    1.346    0.000 classes.py:14(print_card_short)\n",
      "    10000    0.056    0.000    8.078    0.001 classes.py:143(run_game)\n",
      "    20000    0.017    0.000    0.017    0.000 classes.py:18(__init__)\n",
      "    20000    0.115    0.000    0.591    0.000 classes.py:24(give_deck)\n",
      "    20000    0.049    0.000    0.178    0.000 classes.py:30(<listcomp>)\n",
      "    20000    0.064    0.000    0.221    0.000 classes.py:31(<listcomp>)\n",
      "   160000    0.578    0.000    1.946    0.000 classes.py:34(choose)\n",
      "   160000    0.551    0.000    3.156    0.000 classes.py:43(ask)\n",
      "   160000    0.200    0.000    0.221    0.000 classes.py:53(replenish)\n",
      "   160000    0.085    0.000    0.085    0.000 classes.py:59(update_will)\n",
      "    10000    0.419    0.000    0.595    0.000 classes.py:64(__init__)\n",
      "    10000    0.007    0.000    0.007    0.000 classes.py:69(<listcomp>)\n",
      "    10000    0.223    0.000    1.026    0.000 classes.py:79(deal)\n",
      "    10000    0.008    0.000    0.008    0.000 classes.py:81(<listcomp>)\n",
      "   480000    0.119    0.000    0.119    0.000 classes.py:9(__init__)\n",
      "   160000    0.056    0.000    0.056    0.000 classes.py:92(update_influence)\n",
      "    80000    1.004    0.000    2.262    0.000 classes.py:96(scoring)\n",
      "        3    0.000    0.000    0.003    0.001 iostream.py:197(schedule)\n",
      "        2    0.000    0.000    0.000    0.000 iostream.py:310(_is_master_process)\n",
      "        2    0.000    0.000    0.000    0.000 iostream.py:323(_schedule_flush)\n",
      "        2    0.000    0.000    0.003    0.001 iostream.py:386(write)\n",
      "        3    0.000    0.000    0.000    0.000 iostream.py:93(_event_pipe)\n",
      "  1610000    1.419    0.000    1.920    0.000 random.py:229(_randbelow)\n",
      "   350000    1.280    0.000    3.240    0.000 random.py:267(shuffle)\n",
      "        3    0.002    0.001    0.002    0.001 socket.py:357(send)\n",
      "        3    0.000    0.000    0.000    0.000 threading.py:1060(_wait_for_tstate_lock)\n",
      "        3    0.000    0.000    0.000    0.000 threading.py:1102(is_alive)\n",
      "        3    0.000    0.000    0.000    0.000 threading.py:504(is_set)\n",
      "        1    0.000    0.000   10.999   10.999 {built-in method builtins.exec}\n",
      "        2    0.000    0.000    0.000    0.000 {built-in method builtins.isinstance}\n",
      "   510000    0.061    0.000    0.061    0.000 {built-in method builtins.len}\n",
      "   655738    0.433    0.000    0.917    0.000 {built-in method builtins.max}\n",
      "        1    0.000    0.000    0.003    0.003 {built-in method builtins.print}\n",
      "    20000    0.017    0.000    0.017    0.000 {built-in method builtins.sum}\n",
      "        2    0.000    0.000    0.000    0.000 {built-in method posix.getpid}\n",
      "        3    0.000    0.000    0.000    0.000 {method 'acquire' of '_thread.lock' objects}\n",
      "        3    0.000    0.000    0.000    0.000 {method 'append' of 'collections.deque' objects}\n",
      "   960000    0.098    0.000    0.098    0.000 {method 'append' of 'list' objects}\n",
      "  1610000    0.139    0.000    0.139    0.000 {method 'bit_length' of 'int' objects}\n",
      "        1    0.000    0.000    0.000    0.000 {method 'disable' of '_lsprof.Profiler' objects}\n",
      "  2658585    0.362    0.000    0.362    0.000 {method 'getrandbits' of '_random.Random' objects}\n",
      "  1800000    0.313    0.000    0.313    0.000 {method 'join' of 'str' objects}\n",
      "\n",
      "\n"
     ]
    }
   ],
   "source": [
    "import importlib\n",
    "import logging\n",
    "import classes #import the module here, so that it can be reloaded.\n",
    "importlib.reload(classes)\n",
    "\n",
    "log = logging.getLogger(__name__)\n",
    "logging.basicConfig(level=logging.DEBUG)    \n",
    "\n",
    "def longterm():\n",
    "    results = [0,0,0] \n",
    "\n",
    "    for i in range(10000):\n",
    "        game = classes.Game()\n",
    "        players = [classes.Player(\"P1\"),classes.Player(\"P2\")]\n",
    "        game.start_game(players)\n",
    "        result = game.run_game(players)\n",
    "        if result != None:\n",
    "            if   result.name == \"P1\" : results[0] += 1\n",
    "            elif result.name == \"P2\" : results[1] += 1\n",
    "        else: results[2] += 1\n",
    "        del game\n",
    "        del players   \n",
    "    print(results)\n",
    "cProfile.run('longterm()')"
   ]
  },
  {
   "cell_type": "code",
   "execution_count": null,
   "metadata": {},
   "outputs": [],
   "source": [
    "import cProfile\n",
    "game = classes.Game()\n",
    "players = [classes.Player(\"P1\"),classes.Player(\"P2\")]\n",
    "game.start_game(players)\n",
    "cProfile.run('result = game.run_game(players)')\n",
    "del game\n",
    "del players   \n",
    "\n"
   ]
  },
  {
   "cell_type": "code",
   "execution_count": 91,
   "metadata": {},
   "outputs": [
    {
     "ename": "SyntaxError",
     "evalue": "invalid syntax (<ipython-input-91-1344ac162fb0>, line 6)",
     "output_type": "error",
     "traceback": [
      "\u001b[0;36m  File \u001b[0;32m\"<ipython-input-91-1344ac162fb0>\"\u001b[0;36m, line \u001b[0;32m6\u001b[0m\n\u001b[0;31m    for each pair in hand\u001b[0m\n\u001b[0m                ^\u001b[0m\n\u001b[0;31mSyntaxError\u001b[0m\u001b[0;31m:\u001b[0m invalid syntax\n"
     ]
    }
   ],
   "source": [
    "#simple minimax function pseudocode\n",
    "\n",
    "def choose():\n",
    "\tchoose = empty_pair\n",
    "\tmax_points = -99\n",
    "\tfor each pair in hand\t\t\t\t\n",
    "\t\teval = min(evaluate(~pair),evaluate(pair))\n",
    "\t\tif eval  > max_points:\n",
    "\t\t\tchoose = pair\n",
    "\t\t\tmax_points = eval \n",
    "\treturn(choose)"
   ]
  }
 ],
 "metadata": {
  "kernelspec": {
   "display_name": "Python 3",
   "language": "python",
   "name": "python3"
  },
  "language_info": {
   "codemirror_mode": {
    "name": "ipython",
    "version": 3
   },
   "file_extension": ".py",
   "mimetype": "text/x-python",
   "name": "python",
   "nbconvert_exporter": "python",
   "pygments_lexer": "ipython3",
   "version": "3.5.3"
  }
 },
 "nbformat": 4,
 "nbformat_minor": 4
}
