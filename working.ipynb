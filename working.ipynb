{
 "cells": [
  {
   "cell_type": "code",
   "execution_count": 411,
   "metadata": {},
   "outputs": [
    {
     "name": "stdout",
     "output_type": "stream",
     "text": [
      "p1_deck\n",
      "draw\n",
      "p1 score\n",
      "p2_deck\n",
      "p2 score\n",
      "p1 will\n",
      "p2 will\n",
      "influence\n",
      "winner\n"
     ]
    }
   ],
   "source": [
    "import importlib\n",
    "import logging\n",
    "import classes #import the module here, so that it can be reloaded.\n",
    "importlib.reload(classes)\n",
    "\n",
    "log = logging.getLogger(__name__)\n",
    "logging.basicConfig(level=logging.DEBUG)    \n",
    "\n",
    "game = classes.Game()\n",
    "players = [classes.Player(\"P1\"),classes.Player(\"P2\")]\n",
    "game.start_game(players)\n",
    "game_result,turn_results = game.run_game(players)\n",
    "for k in  game_result:\n",
    "    print(k)\n"
   ]
  },
  {
   "cell_type": "code",
   "execution_count": null,
   "metadata": {},
   "outputs": [],
   "source": []
  },
  {
   "cell_type": "code",
   "execution_count": 91,
   "metadata": {},
   "outputs": [
    {
     "ename": "SyntaxError",
     "evalue": "invalid syntax (<ipython-input-91-1344ac162fb0>, line 6)",
     "output_type": "error",
     "traceback": [
      "\u001b[0;36m  File \u001b[0;32m\"<ipython-input-91-1344ac162fb0>\"\u001b[0;36m, line \u001b[0;32m6\u001b[0m\n\u001b[0;31m    for each pair in hand\u001b[0m\n\u001b[0m                ^\u001b[0m\n\u001b[0;31mSyntaxError\u001b[0m\u001b[0;31m:\u001b[0m invalid syntax\n"
     ]
    }
   ],
   "source": [
    "#simple minimax function pseudocode\n",
    "\n",
    "def choose():\n",
    "\tchoose = empty_pair\n",
    "\tmax_points = -99\n",
    "\tfor each pair in hand\t\t\t\t\n",
    "\t\teval = min(evaluate(~pair),evaluate(pair))\n",
    "\t\tif eval  > max_points:\n",
    "\t\t\tchoose = pair\n",
    "\t\t\tmax_points = eval \n",
    "\treturn(choose)"
   ]
  }
 ],
 "metadata": {
  "kernelspec": {
   "display_name": "Python 3",
   "language": "python",
   "name": "python3"
  },
  "language_info": {
   "codemirror_mode": {
    "name": "ipython",
    "version": 3
   },
   "file_extension": ".py",
   "mimetype": "text/x-python",
   "name": "python",
   "nbconvert_exporter": "python",
   "pygments_lexer": "ipython3",
   "version": "3.5.3"
  }
 },
 "nbformat": 4,
 "nbformat_minor": 4
}
