{
 "cells": [
  {
   "cell_type": "code",
   "execution_count": 411,
   "metadata": {},
   "outputs": [
    {
     "name": "stdout",
     "output_type": "stream",
     "text": [
      "p1_deck\n",
      "draw\n",
      "p1 score\n",
      "p2_deck\n",
      "p2 score\n",
      "p1 will\n",
      "p2 will\n",
      "influence\n",
      "winner\n"
     ]
    }
   ],
   "source": [
    "import importlib\n",
    "import logging\n",
    "import classes #import the module here, so that it can be reloaded.\n",
    "importlib.reload(classes)\n",
    "\n",
    "log = logging.getLogger(__name__)\n",
    "logging.basicConfig(level=logging.DEBUG)    \n",
    "\n",
    "game = classes.Game()\n",
    "players = [classes.Player(\"P1\"),classes.Player(\"P2\")]\n",
    "game.start_game(players)\n",
    "game_result,turn_results = game.run_game(players)\n",
    "for k in  game_result:\n",
    "    print(k)\n"
   ]
  },
  {
   "cell_type": "code",
   "execution_count": 752,
   "metadata": {},
   "outputs": [
    {
     "name": "stdout",
     "output_type": "stream",
     "text": [
      "{'q2': 1, 'r3': 0, 'q3': 1, 'r1': 2, 'w1': 1, 'w2': 0, 'e2': 1, 'q1': 0, 'w3': 0, 'e1': 1, 'r2': 1, 'e3': 0}\n",
      "{'q2': 0, 'r3': 0, 'q3': 0, 'r1': 0, 'w1': 1, 'w2': 1, 'e2': 0, 'q1': 2, 'w3': 1, 'e1': 1, 'r2': 2, 'e3': 0}\n",
      "[1, 0, 0]\n"
     ]
    }
   ],
   "source": [
    "import importlib\n",
    "import logging\n",
    "import cProfile\n",
    "import classes #import the module here, so that it can be reloaded.\n",
    "importlib.reload(classes)\n",
    "\n",
    "log = logging.getLogger(__name__)\n",
    "logging.basicConfig(level=logging.INFO)    \n",
    "#logging.basicConfig(level=logging.DEBUG)    \n",
    "\n",
    "def longterm():\n",
    "    results = [0,0,0] \n",
    "\n",
    "    for i in range(1):\n",
    "        game = classes.Game(id = i, seed= i )\n",
    "        game.start_game()\n",
    "        game_result,turn_results = game.run_game()\n",
    "        result = game_result[\"winner\"]       \n",
    "        if result != \"\":\n",
    "            if   result == \"P0\" : results[0] += 1\n",
    "            elif result == \"P1\" : results[1] += 1\n",
    "        else: results[2] += 1\n",
    "    print(results)\n",
    "#cProfile.run(\"longterm()\")\n",
    "longterm()"
   ]
  },
  {
   "cell_type": "code",
   "execution_count": null,
   "metadata": {},
   "outputs": [],
   "source": []
  }
 ],
 "metadata": {
  "kernelspec": {
   "display_name": "Python 3",
   "language": "python",
   "name": "python3"
  },
  "language_info": {
   "codemirror_mode": {
    "name": "ipython",
    "version": 3
   },
   "file_extension": ".py",
   "mimetype": "text/x-python",
   "name": "python",
   "nbconvert_exporter": "python",
   "pygments_lexer": "ipython3",
   "version": "3.5.3"
  }
 },
 "nbformat": 4,
 "nbformat_minor": 4
}
