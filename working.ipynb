{
 "cells": [
  {
   "cell_type": "code",
   "execution_count": 294,
   "metadata": {},
   "outputs": [
    {
     "name": "stdout",
     "output_type": "stream",
     "text": [
      "p1_deck\n",
      "p1 score\n",
      "p2_deck\n",
      "p2 score\n",
      "p1 will\n",
      "p2 will\n",
      "influence\n",
      "winner\n"
     ]
    }
   ],
   "source": [
    "import importlib\n",
    "import logging\n",
    "import classes #import the module here, so that it can be reloaded.\n",
    "importlib.reload(classes)\n",
    "\n",
    "log = logging.getLogger(__name__)\n",
    "logging.basicConfig(level=logging.DEBUG)    \n",
    "\n",
    "game = classes.Game()\n",
    "players = [classes.Player(\"P1\"),classes.Player(\"P2\")]\n",
    "game.start_game(players)\n",
    "game_result,turn_results = game.run_game(players)\n",
    "for k in  game_result:\n",
    "    print(k)\n"
   ]
  },
  {
   "cell_type": "code",
   "execution_count": null,
   "metadata": {},
   "outputs": [],
   "source": [
    "import cProfile\n",
    "game = classes.Game()\n",
    "players = [classes.Player(\"P1\"),classes.Player(\"P2\")]\n",
    "game.start_game(players)\n",
    "cProfile.run('result = game.run_game(players)')\n",
    "del game\n",
    "del players   "
   ]
  },
  {
   "cell_type": "code",
   "execution_count": 307,
   "metadata": {},
   "outputs": [
    {
     "name": "stdout",
     "output_type": "stream",
     "text": [
      "         2321993 function calls in 2.830 seconds\n",
      "\n",
      "   Ordered by: standard name\n",
      "\n",
      "   ncalls  tottime  percall  cumtime  percall filename:lineno(function)\n",
      "        1    0.035    0.035    2.830    2.830 <ipython-input-307-3e588791d6e7>:7(capture_data)\n",
      "        1    0.000    0.000    2.830    2.830 <string>:1(<module>)\n",
      "    87000    0.042    0.000    0.140    0.000 __init__.py:1258(debug)\n",
      "    87000    0.041    0.000    0.041    0.000 __init__.py:1502(getEffectiveLevel)\n",
      "    87000    0.057    0.000    0.098    0.000 __init__.py:1516(isEnabledFor)\n",
      "     1000    0.007    0.000    0.021    0.000 classes.py:100(<listcomp>)\n",
      "     1000    0.007    0.000    0.021    0.000 classes.py:101(<listcomp>)\n",
      "    18000    0.007    0.000    0.007    0.000 classes.py:105(update_influence)\n",
      "     9000    0.131    0.000    0.301    0.000 classes.py:109(scoring)\n",
      "    48000    0.017    0.000    0.017    0.000 classes.py:11(__init__)\n",
      "   144000    0.053    0.000    0.053    0.000 classes.py:116(<genexpr>)\n",
      "     1000    0.002    0.000    0.005    0.000 classes.py:127(winner)\n",
      "     3036    0.001    0.000    0.001    0.000 classes.py:129(<genexpr>)\n",
      "      250    0.000    0.000    0.000    0.000 classes.py:135(<genexpr>)\n",
      "     9000    0.241    0.000    2.331    0.000 classes.py:140(run_turn)\n",
      "    18000    0.053    0.000    0.371    0.000 classes.py:146(<listcomp>)\n",
      "    18000    0.016    0.000    0.143    0.000 classes.py:149(<listcomp>)\n",
      "    18000    0.018    0.000    0.187    0.000 classes.py:151(<listcomp>)\n",
      "   372000    0.362    0.000    1.207    0.000 classes.py:16(print_card_short)\n",
      "     1000    0.112    0.000    2.449    0.002 classes.py:161(run_game)\n",
      "     2000    0.002    0.000    0.002    0.000 classes.py:20(__init__)\n",
      "     2000    0.013    0.000    0.063    0.000 classes.py:26(give_deck)\n",
      "     2000    0.007    0.000    0.019    0.000 classes.py:32(<listcomp>)\n",
      "     2000    0.008    0.000    0.023    0.000 classes.py:33(<listcomp>)\n",
      "    18000    0.080    0.000    0.436    0.000 classes.py:36(choose)\n",
      "    18000    0.070    0.000    0.625    0.000 classes.py:46(ask)\n",
      "    20000    0.023    0.000    0.025    0.000 classes.py:56(replenish)\n",
      "    18000    0.010    0.000    0.010    0.000 classes.py:62(update_will)\n",
      "     1000    0.044    0.000    0.067    0.000 classes.py:67(__init__)\n",
      "     1000    0.001    0.000    0.001    0.000 classes.py:73(<listcomp>)\n",
      "     1000    0.023    0.000    0.106    0.000 classes.py:83(deal)\n",
      "     1000    0.001    0.000    0.001    0.000 classes.py:85(<listcomp>)\n",
      "     1000    0.012    0.000    0.275    0.000 classes.py:95(start_game)\n",
      "     1000    0.007    0.000    0.028    0.000 classes.py:98(<listcomp>)\n",
      "     1000    0.006    0.000    0.019    0.000 classes.py:99(<listcomp>)\n",
      "   165000    0.153    0.000    0.208    0.000 random.py:229(_randbelow)\n",
      "    39000    0.144    0.000    0.356    0.000 random.py:267(shuffle)\n",
      "        1    0.000    0.000    2.830    2.830 {built-in method builtins.exec}\n",
      "    59000    0.007    0.000    0.007    0.000 {built-in method builtins.len}\n",
      "    73643    0.050    0.000    0.104    0.000 {built-in method builtins.max}\n",
      "     2000    0.002    0.000    0.002    0.000 {built-in method builtins.sum}\n",
      "   113000    0.014    0.000    0.014    0.000 {method 'append' of 'list' objects}\n",
      "   165000    0.016    0.000    0.016    0.000 {method 'bit_length' of 'int' objects}\n",
      "        1    0.000    0.000    0.000    0.000 {method 'disable' of '_lsprof.Profiler' objects}\n",
      "   274060    0.039    0.000    0.039    0.000 {method 'getrandbits' of '_random.Random' objects}\n",
      "   420000    0.897    0.000    0.897    0.000 {method 'join' of 'str' objects}\n",
      "\n",
      "\n",
      "1367256\n"
     ]
    }
   ],
   "source": [
    "import sys \n",
    "import pandas as pd\n",
    "game_cols = ['p1_deck','p1 score','p2_deck','p2 score','p1 will','p2 will','influence','winner']\n",
    "game_data = {}\n",
    "for c in game_cols: game_data[c] = []\n",
    "\n",
    "def capture_data():\n",
    "    for i in range(1000):\n",
    "        game = classes.Game()\n",
    "        players = [classes.Player(\"P1\"),classes.Player(\"P2\")]\n",
    "        game.start_game(players)\n",
    "        game_result,turn_results = game.run_game(players)\n",
    "        for c in game_cols: game_data[c].append(game_result[c]) \n",
    "        del game\n",
    "        del players   \n",
    "cProfile.run('capture_data()')\n",
    "\n",
    "data = pd.DataFrame(game_data)\n",
    "print( sys.getsizeof(data))"
   ]
  },
  {
   "cell_type": "code",
   "execution_count": 332,
   "metadata": {},
   "outputs": [
    {
     "name": "stdout",
     "output_type": "stream",
     "text": [
      "0      {'r': 4, 'q': 11, 'e': 13, 'w': 5}\n",
      "1       {'r': 2, 'q': 9, 'e': 9, 'w': 13}\n",
      "2      {'r': 2, 'q': 11, 'e': 8, 'w': 12}\n",
      "3       {'r': 7, 'q': 10, 'e': 9, 'w': 7}\n",
      "4       {'r': 3, 'q': 9, 'e': 15, 'w': 6}\n",
      "                      ...                \n",
      "995    {'r': 9, 'q': 4, 'e': 10, 'w': 10}\n",
      "996    {'r': 9, 'q': 10, 'e': 4, 'w': 10}\n",
      "997    {'r': 10, 'q': 7, 'e': 6, 'w': 10}\n",
      "998    {'r': 5, 'q': 7, 'e': 10, 'w': 11}\n",
      "999    {'r': 8, 'q': 11, 'e': 4, 'w': 10}\n",
      "Name: p1_deck, Length: 1000, dtype: object\n"
     ]
    }
   ],
   "source": [
    "from collections import Counter\n",
    "cards = data[\"p1_deck\"].apply(lambda x: Counter(x))\n",
    "season = data[\"p1_deck\"].apply(lambda c: Counter(x[0] for x in c))\n",
    "power = data[\"p1_deck\"].apply(lambda c:  Counter(\"\".join(x[0]*int(x[1]) for x in c )))\n",
    "\n"
   ]
  },
  {
   "cell_type": "code",
   "execution_count": 309,
   "metadata": {},
   "outputs": [
    {
     "name": "stdout",
     "output_type": "stream",
     "text": [
      "     e1  e2  e3  q1  q2  q3  r1  r2  r3  w1  w2  w3\n",
      "0     1   1   1   1   1   1   1   1   0   1   1   0\n",
      "1     1   1   1   1   1   1   0   1   0   1   1   1\n",
      "2     1   1   0   1   1   1   0   1   0   1   1   1\n",
      "3     1   1   1   1   1   1   1   1   1   1   1   0\n",
      "4     1   1   1   1   1   1   1   1   0   1   1   0\n",
      "..   ..  ..  ..  ..  ..  ..  ..  ..  ..  ..  ..  ..\n",
      "995   1   1   1   1   0   1   1   1   1   1   1   0\n",
      "996   1   1   0   1   1   1   1   1   1   1   1   1\n",
      "997   1   1   1   1   1   1   1   1   0   1   1   1\n",
      "998   1   1   1   1   1   0   1   1   0   1   1   1\n",
      "999   0   1   0   1   1   1   1   1   1   1   1   1\n",
      "\n",
      "[1000 rows x 12 columns]\n",
      "0      [r1, q1, e2, q2, q2, e3, q1, w1, q2, e2, w2, q...\n",
      "1      [q1, q1, q2, q2, r2, q3, e1, e1, e2, e2, w2, e...\n",
      "2      [q1, q1, w2, r2, e2, w3, w1, e1, q2, w2, q2, q...\n",
      "3      [r1, e1, r2, w2, w2, q3, e1, w1, e2, w2, q2, e...\n",
      "4      [r1, w1, r2, q2, w2, q3, w1, e1, w2, e2, e2, q...\n",
      "                             ...                        \n",
      "995    [r1, w1, e2, r2, w2, q3, q1, e1, w2, e2, w2, r...\n",
      "996    [e1, r1, w2, e2, w2, w3, w1, q1, r2, w2, q2, q...\n",
      "997    [q1, q1, r2, w2, r2, w3, r1, e1, r2, q2, r2, e...\n",
      "998    [e1, w1, q2, e2, e2, e3, q1, q1, r2, w2, q2, w...\n",
      "999    [r1, q1, e2, r2, w2, q3, q1, q1, w2, r2, w2, w...\n",
      "Name: p1_deck, Length: 1000, dtype: object\n"
     ]
    }
   ],
   "source": [
    "print(ohe)\n",
    "print(data[\"p1_deck\"])"
   ]
  },
  {
   "cell_type": "code",
   "execution_count": 289,
   "metadata": {},
   "outputs": [
    {
     "name": "stdout",
     "output_type": "stream",
     "text": [
      "Index(['influence', 'p1 score', 'p1 will', 'p1_deck', 'p2 score', 'p2 will',\n",
      "       'p2_deck', 'winner', 'p1 deck q1', 'p1 deck q2', 'p1 deck q3',\n",
      "       'p1 deck w1', 'p1 deck w2', 'p1 deck w3', 'p1 deck e1', 'p1 deck e2',\n",
      "       'p1 deck e3', 'p1 deck r1', 'p1 deck r2', 'p1 deck r3', 'p2 deck q1',\n",
      "       'p2 deck q2', 'p2 deck q3', 'p2 deck w1', 'p2 deck w2', 'p2 deck w3',\n",
      "       'p2 deck e1', 'p2 deck e2', 'p2 deck e3', 'p2 deck r1', 'p2 deck r2',\n",
      "       'p2 deck r3'],\n",
      "      dtype='object')\n"
     ]
    }
   ],
   "source": [
    "print(data.columns)\n",
    "season_short = [\"q\",\"w\",\"e\",\"r\"]\n",
    "for i in range(2):\n",
    "    for s in season_short:\n",
    "        for p in range(3):\n",
    "            data[\"p\"+str(i+1)+\" deck \"+s+str(p+1)] = 0\n",
    "    #for c in data[\"p\"+str(i+1)+\"_deck\"]:\n",
    "    #    for x in c:\n",
    "    #        data[\"p\"+str(i+1)+\" deck \"+x.season+str(x.power)] += 1 "
   ]
  },
  {
   "cell_type": "code",
   "execution_count": 290,
   "metadata": {},
   "outputs": [
    {
     "name": "stdout",
     "output_type": "stream",
     "text": [
      "                               influence  p1 score  \\\n",
      "0      {'r': 8, 'q': 11, 'e': 6, 'w': 9}        30   \n",
      "1     {'r': 2, 'q': 11, 'e': 11, 'w': 9}        30   \n",
      "2      {'r': 7, 'q': 8, 'e': 7, 'w': 11}        26   \n",
      "3      {'r': 9, 'q': 7, 'e': 4, 'w': 12}        28   \n",
      "4      {'r': 10, 'q': 9, 'e': 9, 'w': 7}        23   \n",
      "..                                   ...       ...   \n",
      "995  {'r': 11, 'q': 4, 'e': 10, 'w': 12}        35   \n",
      "996     {'r': 9, 'q': 9, 'e': 9, 'w': 9}        19   \n",
      "997   {'r': 9, 'q': 3, 'e': 11, 'w': 11}        35   \n",
      "998    {'r': 6, 'q': 16, 'e': 6, 'w': 7}        17   \n",
      "999   {'r': 11, 'q': 7, 'e': 5, 'w': 12}        31   \n",
      "\n",
      "                               p1 will  \\\n",
      "0    {'r': 5, 'q': 0, 'e': 11, 'w': 0}   \n",
      "1     {'r': 9, 'q': 1, 'e': 5, 'w': 2}   \n",
      "2     {'r': 2, 'q': 3, 'e': 3, 'w': 7}   \n",
      "3     {'r': 4, 'q': 2, 'e': 5, 'w': 5}   \n",
      "4     {'r': 6, 'q': 1, 'e': 3, 'w': 3}   \n",
      "..                                 ...   \n",
      "995   {'r': 4, 'q': 4, 'e': 5, 'w': 1}   \n",
      "996   {'r': 4, 'q': 6, 'e': 2, 'w': 4}   \n",
      "997   {'r': 8, 'q': 0, 'e': 6, 'w': 1}   \n",
      "998   {'r': 6, 'q': 0, 'e': 5, 'w': 4}   \n",
      "999   {'r': 1, 'q': 2, 'e': 6, 'w': 5}   \n",
      "\n",
      "                                               p1_deck  p2 score  \\\n",
      "0    [<classes.Card object at 0x7f60efcc3e80>, <cla...        36   \n",
      "1    [<classes.Card object at 0x7f60efa574a8>, <cla...        36   \n",
      "2    [<classes.Card object at 0x7f60efa5e160>, <cla...        40   \n",
      "3    [<classes.Card object at 0x7f60efa5e908>, <cla...        38   \n",
      "4    [<classes.Card object at 0x7f60efa5ec50>, <cla...        43   \n",
      "..                                                 ...       ...   \n",
      "995  [<classes.Card object at 0x7f60ef584748>, <cla...        31   \n",
      "996  [<classes.Card object at 0x7f60ef584fd0>, <cla...        17   \n",
      "997  [<classes.Card object at 0x7f60ef584048>, <cla...        31   \n",
      "998  [<classes.Card object at 0x7f60ef587208>, <cla...        18   \n",
      "999  [<classes.Card object at 0x7f60ef589588>, <cla...        35   \n",
      "\n",
      "                              p2 will  \\\n",
      "0    {'r': 3, 'q': 3, 'e': 5, 'w': 5}   \n",
      "1    {'r': 6, 'q': 4, 'e': 3, 'w': 3}   \n",
      "2    {'r': 9, 'q': 4, 'e': 4, 'w': 1}   \n",
      "3    {'r': 6, 'q': 3, 'e': 7, 'w': 2}   \n",
      "4    {'r': 2, 'q': 4, 'e': 5, 'w': 7}   \n",
      "..                                ...   \n",
      "995  {'r': 1, 'q': 7, 'e': 3, 'w': 4}   \n",
      "996  {'r': 6, 'q': 2, 'e': 2, 'w': 4}   \n",
      "997  {'r': 1, 'q': 8, 'e': 3, 'w': 5}   \n",
      "998  {'r': 3, 'q': 0, 'e': 9, 'w': 4}   \n",
      "999  {'r': 4, 'q': 9, 'e': 4, 'w': 0}   \n",
      "\n",
      "                                               p2_deck  \\\n",
      "0    [<classes.Card object at 0x7f60efcc3cc0>, <cla...   \n",
      "1    [<classes.Card object at 0x7f60efa5eeb8>, <cla...   \n",
      "2    [<classes.Card object at 0x7f60efcc3d30>, <cla...   \n",
      "3    [<classes.Card object at 0x7f60efa5ec18>, <cla...   \n",
      "4    [<classes.Card object at 0x7f60efa570b8>, <cla...   \n",
      "..                                                 ...   \n",
      "995  [<classes.Card object at 0x7f60ef5840f0>, <cla...   \n",
      "996  [<classes.Card object at 0x7f60ef584ba8>, <cla...   \n",
      "997  [<classes.Card object at 0x7f60ef587710>, <cla...   \n",
      "998  [<classes.Card object at 0x7f60ef587400>, <cla...   \n",
      "999  [<classes.Card object at 0x7f60ef589630>, <cla...   \n",
      "\n",
      "                                        winner  p1 deck q1  p1 deck q2  ...  \\\n",
      "0    <classes.Player object at 0x7f60efa5e6a0>           0           0  ...   \n",
      "1    <classes.Player object at 0x7f60efa57be0>           0           0  ...   \n",
      "2    <classes.Player object at 0x7f60efa57a20>           0           0  ...   \n",
      "3    <classes.Player object at 0x7f60efa5f8d0>           0           0  ...   \n",
      "4    <classes.Player object at 0x7f60efa5fda0>           0           0  ...   \n",
      "..                                         ...         ...         ...  ...   \n",
      "995  <classes.Player object at 0x7f60ef582080>           0           0  ...   \n",
      "996  <classes.Player object at 0x7f60ef582b70>           0           0  ...   \n",
      "997  <classes.Player object at 0x7f60ef584d30>           0           0  ...   \n",
      "998  <classes.Player object at 0x7f60ef589ba8>           0           0  ...   \n",
      "999  <classes.Player object at 0x7f60ef58b240>           0           0  ...   \n",
      "\n",
      "     p2 deck q3  p2 deck w1  p2 deck w2  p2 deck w3  p2 deck e1  p2 deck e2  \\\n",
      "0             0           0           0           0           0           0   \n",
      "1             0           0           0           0           0           0   \n",
      "2             0           0           0           0           0           0   \n",
      "3             0           0           0           0           0           0   \n",
      "4             0           0           0           0           0           0   \n",
      "..          ...         ...         ...         ...         ...         ...   \n",
      "995           0           0           0           0           0           0   \n",
      "996           0           0           0           0           0           0   \n",
      "997           0           0           0           0           0           0   \n",
      "998           0           0           0           0           0           0   \n",
      "999           0           0           0           0           0           0   \n",
      "\n",
      "     p2 deck e3  p2 deck r1  p2 deck r2  p2 deck r3  \n",
      "0             0           0           0           0  \n",
      "1             0           0           0           0  \n",
      "2             0           0           0           0  \n",
      "3             0           0           0           0  \n",
      "4             0           0           0           0  \n",
      "..          ...         ...         ...         ...  \n",
      "995           0           0           0           0  \n",
      "996           0           0           0           0  \n",
      "997           0           0           0           0  \n",
      "998           0           0           0           0  \n",
      "999           0           0           0           0  \n",
      "\n",
      "[1000 rows x 32 columns]\n"
     ]
    }
   ],
   "source": [
    "print(data)"
   ]
  },
  {
   "cell_type": "code",
   "execution_count": 91,
   "metadata": {},
   "outputs": [
    {
     "ename": "SyntaxError",
     "evalue": "invalid syntax (<ipython-input-91-1344ac162fb0>, line 6)",
     "output_type": "error",
     "traceback": [
      "\u001b[0;36m  File \u001b[0;32m\"<ipython-input-91-1344ac162fb0>\"\u001b[0;36m, line \u001b[0;32m6\u001b[0m\n\u001b[0;31m    for each pair in hand\u001b[0m\n\u001b[0m                ^\u001b[0m\n\u001b[0;31mSyntaxError\u001b[0m\u001b[0;31m:\u001b[0m invalid syntax\n"
     ]
    }
   ],
   "source": [
    "#simple minimax function pseudocode\n",
    "\n",
    "def choose():\n",
    "\tchoose = empty_pair\n",
    "\tmax_points = -99\n",
    "\tfor each pair in hand\t\t\t\t\n",
    "\t\teval = min(evaluate(~pair),evaluate(pair))\n",
    "\t\tif eval  > max_points:\n",
    "\t\t\tchoose = pair\n",
    "\t\t\tmax_points = eval \n",
    "\treturn(choose)"
   ]
  }
 ],
 "metadata": {
  "kernelspec": {
   "display_name": "Python 3",
   "language": "python",
   "name": "python3"
  },
  "language_info": {
   "codemirror_mode": {
    "name": "ipython",
    "version": 3
   },
   "file_extension": ".py",
   "mimetype": "text/x-python",
   "name": "python",
   "nbconvert_exporter": "python",
   "pygments_lexer": "ipython3",
   "version": "3.5.3"
  }
 },
 "nbformat": 4,
 "nbformat_minor": 4
}
