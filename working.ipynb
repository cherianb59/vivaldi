{
 "cells": [
  {
   "cell_type": "code",
   "execution_count": 872,
   "metadata": {},
   "outputs": [
    {
     "name": "stdout",
     "output_type": "stream",
     "text": [
      "draw False\n",
      "p0 score 8.0\n",
      "p1 score 32.3\n",
      "winner P1\n",
      "p0 will {'l': 4, 'k': 4, 'j': 1, 'h': 3}\n",
      "p1 will {'l': 6, 'k': 4, 'j': 4, 'h': 4}\n",
      "influence {'l': 5, 'k': 13, 'j': 8, 'h': 5}\n",
      "P1_deck ['k1', 'l1', 'l2', 'k2', 'j2', 'j3', 'h1', 'l1', 'h2', 'k2', 'j2', 'k3', 'l1', 'j1', 'k2', 'h2', 'l2', 'h3']\n",
      "P0_deck ['k1', 'k1', 'j2', 'j2', 'h2', 'k3', 'k1', 'j1', 'h2', 'k2', 'l2', 'l3', 'l1', 'j1', 'k2', 'k2', 'j2', 'l3']\n"
     ]
    }
   ],
   "source": [
    "import importlib\n",
    "import logging\n",
    "import classes #import the module here, so that it can be reloaded.\n",
    "importlib.reload(classes)\n",
    "\n",
    "log = logging.getLogger(__name__)\n",
    "logging.basicConfig(level=logging.DEBUG)    \n",
    "\n",
    "game = classes.Game(100)\n",
    "game.players = [classes.Player(game, 0,\"random\"),classes.Player(game, 1,\"random\")]\n",
    "game.start_game()\n",
    "game_result,turn_results = game.run_game()\n",
    "for k in  game_result:\n",
    "    print(k,game_result[k])\n"
   ]
  },
  {
   "cell_type": "code",
   "execution_count": 752,
   "metadata": {},
   "outputs": [],
   "source": [
    "import importlib\n",
    "import logging\n",
    "import cProfile\n",
    "import classes #import the module here, so that it can be reloaded.\n",
    "importlib.reload(classes)\n",
    "\n",
    "log = logging.getLogger(__name__)\n",
    "logging.basicConfig(level=logging.INFO)    \n",
    "#logging.basicConfig(level=logging.DEBUG)    \n",
    "\n",
    "def longterm():\n",
    "    results = [0,0,0] \n",
    "\n",
    "    for i in range(1):\n",
    "        game = classes.Game(id = i, seed= i )\n",
    "        game.start_game()\n",
    "        game_result,turn_results = game.run_game()\n",
    "        result = game_result[\"winner\"]       \n",
    "        if result != \"\":\n",
    "            if   result == \"P0\" : results[0] += 1\n",
    "            elif result == \"P1\" : results[1] += 1\n",
    "        else: results[2] += 1\n",
    "    print(results)\n",
    "#cProfile.run(\"longterm()\")\n",
    "longterm()"
   ]
  },
  {
   "cell_type": "code",
   "execution_count": 833,
   "metadata": {},
   "outputs": [
    {
     "ename": "KeyError",
     "evalue": "'h4'",
     "output_type": "error",
     "traceback": [
      "\u001b[0;31m---------------------------------------------------------------------------\u001b[0m",
      "\u001b[0;31mKeyError\u001b[0m                                  Traceback (most recent call last)",
      "\u001b[0;32m<ipython-input-833-23c459eaedca>\u001b[0m in \u001b[0;36m<module>\u001b[0;34m\u001b[0m\n\u001b[1;32m     26\u001b[0m \u001b[0mcards_choose_lut\u001b[0m \u001b[0;34m=\u001b[0m \u001b[0;34m{\u001b[0m\u001b[0mx\u001b[0m\u001b[0;34m:\u001b[0m\u001b[0mi\u001b[0m \u001b[0;32mfor\u001b[0m \u001b[0mi\u001b[0m\u001b[0;34m,\u001b[0m\u001b[0mx\u001b[0m \u001b[0;32min\u001b[0m \u001b[0menumerate\u001b[0m\u001b[0;34m(\u001b[0m\u001b[0mcards_choose\u001b[0m\u001b[0;34m)\u001b[0m\u001b[0;34m}\u001b[0m\u001b[0;34m\u001b[0m\u001b[0m\n\u001b[1;32m     27\u001b[0m \u001b[0;34m\u001b[0m\u001b[0m\n\u001b[0;32m---> 28\u001b[0;31m \u001b[0mprint\u001b[0m\u001b[0;34m(\u001b[0m\u001b[0mcards_lut\u001b[0m\u001b[0;34m[\u001b[0m\u001b[0mstr\u001b[0m\u001b[0;34m(\u001b[0m\u001b[0mclasses\u001b[0m\u001b[0;34m.\u001b[0m\u001b[0mCard\u001b[0m\u001b[0;34m(\u001b[0m\u001b[0;34m'h'\u001b[0m\u001b[0;34m,\u001b[0m\u001b[0;36m4\u001b[0m\u001b[0;34m)\u001b[0m\u001b[0;34m)\u001b[0m\u001b[0;34m]\u001b[0m\u001b[0;34m)\u001b[0m\u001b[0;34m\u001b[0m\u001b[0m\n\u001b[0m\u001b[1;32m     29\u001b[0m \u001b[0mprint\u001b[0m\u001b[0;34m(\u001b[0m\u001b[0;34m)\u001b[0m\u001b[0;34m\u001b[0m\u001b[0m\n",
      "\u001b[0;31mKeyError\u001b[0m: 'h4'"
     ]
    }
   ],
   "source": [
    "\n",
    "history_flushes = 25 \n",
    "training_rounds = 10 \n",
    "training_games = 50\n",
    "game = classes.Game(0)\n",
    "players = [classes.Player(game, 0,\"nn\"),classes.Player(game, 1,\"random\")]\n",
    "players[0].load_ai()\n",
    "game.run_game()\n",
    "\n",
    "for k in range(history_flushes):\n",
    "    print '---History Flushes=%d---' % k\n",
    "    for j in range(training_rounds):\n",
    "        sys.stdout.write('in training round j=%d' % j)\n",
    "        sys.stdout.flush()\n",
    "        for i in range(training_games):\n",
    "            new_game = classes.Game(1 + i + training_games*j + training_rounds*training_games*k)\n",
    "            players[0].game = new_game\n",
    "            players[1].game = new_game\n",
    "            game.run_game()\n",
    "        sys.stdout.write('*'*30 + '\\r')\n",
    "        new_game.train_players()\n",
    "    new_game.flush_player_history()\n",
    "    players[0].save_ai()\n",
    "    print 'flushed history'\n",
    "print 'done!' "
   ]
  }
 ],
 "metadata": {
  "kernelspec": {
   "display_name": "Python 3",
   "language": "python",
   "name": "python3"
  },
  "language_info": {
   "codemirror_mode": {
    "name": "ipython",
    "version": 3
   },
   "file_extension": ".py",
   "mimetype": "text/x-python",
   "name": "python",
   "nbconvert_exporter": "python",
   "pygments_lexer": "ipython3",
   "version": "3.5.3"
  }
 },
 "nbformat": 4,
 "nbformat_minor": 4
}
