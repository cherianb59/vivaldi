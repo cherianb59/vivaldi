{
 "cells": [
  {
   "cell_type": "code",
   "execution_count": 227,
   "metadata": {},
   "outputs": [
    {
     "name": "stdout",
     "output_type": "stream",
     "text": [
      "Starting Game\n",
      "Deck 1: e1 w1 q2 w2 w2 q3 e1 r1 e2 r2 w2 q3 w1 q1 r2 e2 w2 w3 \n",
      "Deck 0: w1 r1 q2 r2 q2 w3 r1 q1 e2 e2 w2 e3 r1 w1 e2 r2 r2 r3 \n",
      "P1 hand e1 w1 q2 w2 w2 q3 e1 r1 \n",
      "P1 deck e2 r2 w2 q3 w1 q1 r2 e2 w2 w3 \n",
      "P2 hand w1 r1 q2 r2 q2 w3 r1 q1 \n",
      "P2 deck e2 e2 w2 e3 r1 w1 e2 r2 r2 r3 \n",
      "P1 ask e1  q2 \n",
      "P2 choice Will:q2  influence:e1 \n",
      "P2 ask r2  q2 \n",
      "P1 choice Will:q2  influence:r2 \n",
      "{'r': 2, 'q': 0, 'e': 1, 'w': 0}\n",
      "{'r': 0, 'q': 2, 'e': 0, 'w': 0} 0\n",
      "{'r': 0, 'q': 2, 'e': 0, 'w': 0} 0\n",
      "P1 ask r2  e2 \n",
      "P2 choice Will:e2  influence:r2 \n",
      "P2 ask e2  w1 \n",
      "P1 choice Will:e2  influence:w1 \n",
      "{'r': 4, 'q': 0, 'e': 1, 'w': 1}\n",
      "{'r': 0, 'q': 2, 'e': 2, 'w': 0} 0\n",
      "{'r': 0, 'q': 2, 'e': 2, 'w': 0} 0\n",
      "P1 ask w2  e2 \n",
      "P2 choice Will:w2  influence:e2 \n",
      "P2 ask w3  w1 \n",
      "P1 choice Will:w3  influence:w1 \n",
      "{'r': 4, 'q': 0, 'e': 3, 'w': 2}\n",
      "{'r': 0, 'q': 2, 'e': 2, 'w': 3} 5\n",
      "{'r': 0, 'q': 2, 'e': 2, 'w': 2} 2\n",
      "P1 ask q1  e1 \n",
      "P2 choice Will:e1  influence:q1 \n",
      "P2 ask r1  e3 \n",
      "P1 choice Will:e3  influence:r1 \n",
      "{'r': 5, 'q': 1, 'e': 3, 'w': 2}\n",
      "{'r': 0, 'q': 2, 'e': 5, 'w': 3} 13\n",
      "{'r': 0, 'q': 2, 'e': 3, 'w': 2} 5\n",
      "P1 ask r2  e1 \n",
      "P2 choice Will:e1  influence:r2 \n",
      "P2 ask r2  w1 \n",
      "P1 choice Will:w1  influence:r2 \n",
      "{'r': 9, 'q': 1, 'e': 3, 'w': 2}\n",
      "{'r': 0, 'q': 2, 'e': 5, 'w': 4} 14\n",
      "{'r': 0, 'q': 2, 'e': 4, 'w': 2} 6\n",
      "P1 ask w1  q3 \n",
      "P2 choice Will:w1  influence:q3 \n",
      "P2 ask e3  q1 \n",
      "P1 choice Will:e3  influence:q1 \n",
      "{'r': 9, 'q': 5, 'e': 3, 'w': 2}\n",
      "{'r': 0, 'q': 2, 'e': 8, 'w': 4} 17\n",
      "{'r': 0, 'q': 2, 'e': 4, 'w': 3} 7\n",
      "P1 ask w2  w3 \n",
      "P2 choice Will:w2  influence:w3 \n",
      "P2 ask r2  w1 \n",
      "P1 choice Will:w1  influence:r2 \n",
      "{'r': 11, 'q': 5, 'e': 3, 'w': 5}\n",
      "{'r': 0, 'q': 2, 'e': 8, 'w': 5} 11\n",
      "{'r': 0, 'q': 2, 'e': 4, 'w': 5} 4\n",
      "P1 ask e2  w3 \n",
      "P2 choice Will:e2  influence:w3 \n",
      "P2 ask w1  q1 \n",
      "P1 choice Will:w1  influence:q1 \n",
      "{'r': 11, 'q': 6, 'e': 3, 'w': 8}\n",
      "{'r': 0, 'q': 2, 'e': 8, 'w': 6} 25\n",
      "{'r': 0, 'q': 2, 'e': 6, 'w': 5} 11\n",
      "winner P1\n"
     ]
    }
   ],
   "source": [
    "import importlib\n",
    "import logging\n",
    "import classes #import the module here, so that it can be reloaded.\n",
    "importlib.reload(classes)\n",
    "\n",
    "#if game: del game\n",
    "#if players: del players   \n",
    "logging.basicConfig(filename='example.log', filemode='w', encoding='utf-8', level=logging.DEBUG)    \n",
    "game = classes.Game()\n",
    "players = [classes.Player(\"P1\"),classes.Player(\"P2\")]\n",
    "\n",
    "game.start_game(players)\n",
    "game.run_game(players)"
   ]
  },
  {
   "cell_type": "code",
   "execution_count": 168,
   "metadata": {},
   "outputs": [
    {
     "name": "stdout",
     "output_type": "stream",
     "text": [
      "P1\n"
     ]
    }
   ],
   "source": []
  },
  {
   "cell_type": "code",
   "execution_count": 91,
   "metadata": {},
   "outputs": [
    {
     "ename": "SyntaxError",
     "evalue": "invalid syntax (<ipython-input-91-1344ac162fb0>, line 6)",
     "output_type": "error",
     "traceback": [
      "\u001b[0;36m  File \u001b[0;32m\"<ipython-input-91-1344ac162fb0>\"\u001b[0;36m, line \u001b[0;32m6\u001b[0m\n\u001b[0;31m    for each pair in hand\u001b[0m\n\u001b[0m                ^\u001b[0m\n\u001b[0;31mSyntaxError\u001b[0m\u001b[0;31m:\u001b[0m invalid syntax\n"
     ]
    }
   ],
   "source": [
    "#simple minimax function pseudocode\n",
    "\n",
    "def choose():\n",
    "\tchoose = empty_pair\n",
    "\tmax_points = -99\n",
    "\tfor each pair in hand\t\t\t\t\n",
    "\t\teval = min(evaluate(~pair),evaluate(pair))\n",
    "\t\tif eval  > max_points:\n",
    "\t\t\tchoose = pair\n",
    "\t\t\tmax_points = eval \n",
    "\treturn(choose)"
   ]
  }
 ],
 "metadata": {
  "kernelspec": {
   "display_name": "Python 3",
   "language": "python",
   "name": "python3"
  },
  "language_info": {
   "codemirror_mode": {
    "name": "ipython",
    "version": 3
   },
   "file_extension": ".py",
   "mimetype": "text/x-python",
   "name": "python",
   "nbconvert_exporter": "python",
   "pygments_lexer": "ipython3",
   "version": "3.5.3"
  }
 },
 "nbformat": 4,
 "nbformat_minor": 4
}
