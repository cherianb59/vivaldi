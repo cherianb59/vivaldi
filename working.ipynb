{
 "cells": [
  {
   "cell_type": "code",
   "execution_count": 218,
   "metadata": {},
   "outputs": [
    {
     "name": "stdout",
     "output_type": "stream",
     "text": [
      "Starting Game\n",
      "Deck 1: r1 e1 e2 r2 r2 e3 e1 w1 q2 q2 w2 w3 q1 q1 w2 q2 w2 w3 \n",
      "Deck 0: e1 w1 e2 w2 e2 e3 w1 r1 r2 r2 e2 r3 q1 e1 w2 e2 q2 q3 \n",
      "P1 hand r1 e1 e2 r2 r2 e3 e1 w1 \n",
      "P1 deck q2 q2 w2 w3 q1 q1 w2 q2 w2 w3 \n",
      "P2 hand e1 w1 e2 w2 e2 e3 w1 r1 \n",
      "P2 deck r2 r2 e2 r3 q1 e1 w2 e2 q2 q3 \n",
      "P2 choice Will:w1  influence:r2 \n",
      "P1 choice Will:e2  influence:e3 \n",
      "P2 choice Will:r1  influence:w1 \n",
      "P1 choice Will:r2  influence:w2 \n",
      "P2 choice Will:e1  influence:w3 \n",
      "P1 choice Will:e2  influence:r2 \n",
      "P2 choice Will:e2  influence:r1 \n",
      "P1 choice Will:q1  influence:r2 \n",
      "P2 choice Will:w3  influence:q1 \n",
      "P1 choice Will:e1  influence:e2 \n",
      "P2 choice Will:r1  influence:w2 \n",
      "P1 choice Will:r1  influence:e1 \n",
      "P2 choice Will:w2  influence:r1 \n",
      "P1 choice Will:e2  influence:w2 \n",
      "P2 choice Will:w3  influence:q2 \n",
      "P1 choice Will:e1  influence:r1 \n",
      "P1\n"
     ]
    }
   ],
   "source": [
    "import importlib\n",
    "import logging\n",
    "import classes #import the module here, so that it can be reloaded.\n",
    "importlib.reload(classes)\n",
    "\n",
    "#if game: del game\n",
    "#if players: del players   \n",
    "logging.basicConfig(filename='example.log', filemode='w', encoding='utf-8', level=logging.DEBUG)    \n",
    "game = classes.Game()\n",
    "players = [classes.Player(\"P1\"),classes.Player(\"P2\")]\n",
    "\n",
    "game.start_game(players)\n",
    "game.run_game(players)"
   ]
  },
  {
   "cell_type": "code",
   "execution_count": 168,
   "metadata": {},
   "outputs": [
    {
     "name": "stdout",
     "output_type": "stream",
     "text": [
      "P1\n"
     ]
    }
   ],
   "source": []
  },
  {
   "cell_type": "code",
   "execution_count": 91,
   "metadata": {},
   "outputs": [
    {
     "ename": "SyntaxError",
     "evalue": "invalid syntax (<ipython-input-91-1344ac162fb0>, line 6)",
     "output_type": "error",
     "traceback": [
      "\u001b[0;36m  File \u001b[0;32m\"<ipython-input-91-1344ac162fb0>\"\u001b[0;36m, line \u001b[0;32m6\u001b[0m\n\u001b[0;31m    for each pair in hand\u001b[0m\n\u001b[0m                ^\u001b[0m\n\u001b[0;31mSyntaxError\u001b[0m\u001b[0;31m:\u001b[0m invalid syntax\n"
     ]
    }
   ],
   "source": [
    "#simple minimax function pseudocode\n",
    "\n",
    "def choose():\n",
    "\tchoose = empty_pair\n",
    "\tmax_points = -99\n",
    "\tfor each pair in hand\t\t\t\t\n",
    "\t\teval = min(evaluate(~pair),evaluate(pair))\n",
    "\t\tif eval  > max_points:\n",
    "\t\t\tchoose = pair\n",
    "\t\t\tmax_points = eval \n",
    "\treturn(choose)"
   ]
  }
 ],
 "metadata": {
  "kernelspec": {
   "display_name": "Python 3",
   "language": "python",
   "name": "python3"
  },
  "language_info": {
   "codemirror_mode": {
    "name": "ipython",
    "version": 3
   },
   "file_extension": ".py",
   "mimetype": "text/x-python",
   "name": "python",
   "nbconvert_exporter": "python",
   "pygments_lexer": "ipython3",
   "version": "3.5.3"
  }
 },
 "nbformat": 4,
 "nbformat_minor": 4
}
