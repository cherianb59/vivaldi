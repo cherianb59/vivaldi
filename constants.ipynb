{
 "cells": [
  {
   "cell_type": "code",
   "execution_count": 19,
   "metadata": {},
   "outputs": [],
   "source": [
    "import random\n",
    "\n",
    "season_names = {\"q\":\"Summer\",\"w\":\"Autumn\",\"e\":\"Winter\",\"r\":\"Spring\"} \n",
    "season_short = [\"q\",\"w\",\"e\",\"r\"]\n",
    "rank_quantity = {1:4, 2:6, 3:2}\n",
    "class Card():\n",
    "    def __init__(self, season, power):\n",
    "        self.season = season\n",
    "        self.power = power  \n",
    "\n",
    "#list of three empty lists\n",
    "full_deck =  [[] for _ in range(3)] \n",
    "\n",
    "#create a full deck of cards\n",
    "#iterate through powers\n",
    "for j in [1,2,3]:\n",
    "    for c in season_short: \n",
    "        for i in range(rank_quantity[j]):\n",
    "            full_deck[j-1].append(Card(c,j))"
   ]
  },
  {
   "cell_type": "code",
   "execution_count": 40,
   "metadata": {},
   "outputs": [],
   "source": [
    "#def deal_cards(full_deck):   \n",
    "#return(p1_cards,p2_cards)\n",
    "\n",
    "#deal teh cards\n",
    "def deal(full_deck):\n",
    "    num_piles = 8\n",
    "    piles = [[] for _ in range(num_piles)]\n",
    "    for j in [1,2,3]:\n",
    "        random.shuffle(full_deck[j-1])\n",
    "        for i, card in enumerate(full_deck[j-1]):\n",
    "            pile_num = i%8\n",
    "            piles[pile_num].append(card)\n",
    "            #print(card.season,card.power)\n",
    "\n",
    "\n",
    "\n",
    "    p1_deck = sum([piles[0:3]],[])\n",
    "    p2_deck = sum([piles[4:7]],[])\n",
    "\n",
    "    return(p1_deck,p2_deck)"
   ]
  },
  {
   "cell_type": "code",
   "execution_count": 40,
   "metadata": {},
   "outputs": [],
   "source": [
    "class Player:\n",
    "    HAND_SIZE = 8\n",
    "    will = {\"q\":0,\"w\":0,\"e\":0,\"r\":0}\n",
    "    \n",
    "    def __init__(self, deck):\n",
    "        self.deck = deck\n",
    "        #move cards into hand\n",
    "        hand = self.deck[0:HAND_SIZE]\n",
    "        self.deck = self.deck[HAND_SIZE:]\n",
    "    #when given two cards, choose where to place\n",
    "    def choose(c1,c2):\n",
    "        return(c1,c2)\n",
    "    #choose two cards to give to the other player\n",
    "    def ask(hand):\n",
    "        return(hand[0],hand[1])\n",
    "    \n",
    "    def remove_cards(c1,c2)\n",
    "        #return(hand)\n",
    "        pass\n",
    "    def replenish():\n",
    "        if len(self.deck) > 0:\n",
    "            hand = hand + self.deck[0:2]\n",
    "            self.deck = self.deck[2:]\n",
    "        pass"
   ]
  }
 ],
 "metadata": {
  "kernelspec": {
   "display_name": "Python 3",
   "language": "python",
   "name": "python3"
  },
  "language_info": {
   "codemirror_mode": {
    "name": "ipython",
    "version": 3
   },
   "file_extension": ".py",
   "mimetype": "text/x-python",
   "name": "python",
   "nbconvert_exporter": "python",
   "pygments_lexer": "ipython3",
   "version": "3.5.3"
  }
 },
 "nbformat": 4,
 "nbformat_minor": 4
}
